{
 "cells": [
  {
   "cell_type": "code",
   "execution_count": 1,
   "id": "cfea38cc",
   "metadata": {},
   "outputs": [],
   "source": [
    "from selenium import webdriver\n",
    "from webdriver_manager.chrome import ChromeDriverManager\n",
    "from selenium.webdriver.chrome.service import Service\n",
    "import pandas as pd"
   ]
  },
  {
   "cell_type": "code",
   "execution_count": 2,
   "id": "26b4bf59",
   "metadata": {},
   "outputs": [],
   "source": [
    "data = pd.read_excel(\"challenge.xlsx\")"
   ]
  },
  {
   "cell_type": "code",
   "execution_count": 3,
   "id": "c12203c1",
   "metadata": {
    "scrolled": true
   },
   "outputs": [],
   "source": [
    "p_number = list(data[\"Phone Number\"])\n",
    "l_name = list(data[\"Last Name \"])\n",
    "r_company = list(data[\"Role in Company\"])\n",
    "c_name = list(data[\"Company Name\"])\n",
    "address = list(data[\"Address\"])\n",
    "f_name = list(data[\"First Name\"])\n",
    "email = list(data[\"Email\"])"
   ]
  },
  {
   "cell_type": "code",
   "execution_count": 4,
   "id": "3fd69f65",
   "metadata": {
    "scrolled": true
   },
   "outputs": [],
   "source": [
    "servico = Service(ChromeDriverManager().install())\n",
    "\n",
    "navegador = webdriver.Chrome(service=servico)"
   ]
  },
  {
   "cell_type": "code",
   "execution_count": 5,
   "id": "32bf4e32",
   "metadata": {},
   "outputs": [],
   "source": [
    "navegador.maximize_window()"
   ]
  },
  {
   "cell_type": "code",
   "execution_count": 6,
   "id": "f9cf5e53",
   "metadata": {},
   "outputs": [],
   "source": [
    "navegador.get(\"https://www.rpachallenge.com/\")"
   ]
  },
  {
   "cell_type": "code",
   "execution_count": 7,
   "id": "22db2d9f",
   "metadata": {},
   "outputs": [],
   "source": [
    "navegador.find_element(\"class name\", 'btn-large.uiColorButton').click()"
   ]
  },
  {
   "cell_type": "code",
   "execution_count": 8,
   "id": "b25972f9",
   "metadata": {},
   "outputs": [],
   "source": [
    "for i in range(len(data.index)):\n",
    "    navegador.find_element(\"xpath\", '//*[@ng-reflect-name=\"labelFirstName\"]').send_keys(f_name[i])\n",
    "    navegador.find_element(\"xpath\", '//*[@ng-reflect-name=\"labelLastName\"]').send_keys(l_name[i])\n",
    "    navegador.find_element(\"xpath\", '//*[@ng-reflect-name=\"labelCompanyName\"]').send_keys(c_name[i])\n",
    "    navegador.find_element(\"xpath\", '//*[@ng-reflect-name=\"labelRole\"]').send_keys(r_company[i])\n",
    "    navegador.find_element(\"xpath\", '//*[@ng-reflect-name=\"labelAddress\"]').send_keys(address[i])\n",
    "    navegador.find_element(\"xpath\", '//*[@ng-reflect-name=\"labelEmail\"]').send_keys(email[i])\n",
    "    navegador.find_element(\"xpath\", '//*[@ng-reflect-name=\"labelPhone\"]').send_keys(p_number[i])\n",
    "    navegador.find_element(\"class name\", 'btn.uiColorButton').click()"
   ]
  },
  {
   "cell_type": "code",
   "execution_count": null,
   "id": "1dab0bce",
   "metadata": {},
   "outputs": [],
   "source": []
  }
 ],
 "metadata": {
  "kernelspec": {
   "display_name": "Python 3 (ipykernel)",
   "language": "python",
   "name": "python3"
  },
  "language_info": {
   "codemirror_mode": {
    "name": "ipython",
    "version": 3
   },
   "file_extension": ".py",
   "mimetype": "text/x-python",
   "name": "python",
   "nbconvert_exporter": "python",
   "pygments_lexer": "ipython3",
   "version": "3.9.12"
  }
 },
 "nbformat": 4,
 "nbformat_minor": 5
}
